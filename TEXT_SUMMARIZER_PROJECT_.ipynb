{
  "nbformat": 4,
  "nbformat_minor": 0,
  "metadata": {
    "colab": {
      "provenance": []
    },
    "kernelspec": {
      "name": "python3",
      "display_name": "Python 3"
    },
    "language_info": {
      "name": "python"
    }
  },
  "cells": [
    {
      "cell_type": "code",
      "execution_count": null,
      "metadata": {
        "id": "fGmj8Cb_0NV7"
      },
      "outputs": [],
      "source": [
        "import nltk\n",
        "from nltk.corpus import stopwords\n",
        "from nltk.tokenize import word_tokenize, sent_tokenize"
      ]
    },
    {
      "cell_type": "code",
      "source": [
        "nltk.download('stopwords')  "
      ],
      "metadata": {
        "colab": {
          "base_uri": "https://localhost:8080/"
        },
        "id": "PJD3dOMh3D6T",
        "outputId": "5b277c4a-b202-4cf4-b0f8-3b74ffcd69fa"
      },
      "execution_count": null,
      "outputs": [
        {
          "output_type": "stream",
          "name": "stderr",
          "text": [
            "[nltk_data] Downloading package stopwords to /root/nltk_data...\n",
            "[nltk_data]   Unzipping corpora/stopwords.zip.\n"
          ]
        },
        {
          "output_type": "execute_result",
          "data": {
            "text/plain": [
              "True"
            ]
          },
          "metadata": {},
          "execution_count": 2
        }
      ]
    },
    {
      "cell_type": "code",
      "source": [
        "nltk.download('punkt')"
      ],
      "metadata": {
        "colab": {
          "base_uri": "https://localhost:8080/"
        },
        "id": "PaEofudw3Rpe",
        "outputId": "59decd8d-903f-47ae-c0fe-460e4d757c3b"
      },
      "execution_count": null,
      "outputs": [
        {
          "output_type": "stream",
          "name": "stderr",
          "text": [
            "[nltk_data] Downloading package punkt to /root/nltk_data...\n",
            "[nltk_data]   Unzipping tokenizers/punkt.zip.\n"
          ]
        },
        {
          "output_type": "execute_result",
          "data": {
            "text/plain": [
              "True"
            ]
          },
          "metadata": {},
          "execution_count": 3
        }
      ]
    },
    {
      "cell_type": "code",
      "source": [
        "text = \"\"\"Social issues have a lot of drawbacks that harms our society. They are situations that have an adverse and damaging result on our society. They arise when the public leaves nature or society from an ideal situation.\n",
        "\n",
        "If you look closely, you will realize that almost all types of social issues have common origins. In the sense that they all are interconnected somehow. Meaning to say, if one solves the other one is also most likely to resolve.\n",
        "\n",
        "Social issues have a massive lousy effect on our society and ultimately, it affects all of us. In order to solve some social issues, we need a common approach. No society is free from social issues, almost every one of them has some social issue or the other.\n",
        "\n",
        "For instance, in India, you will find a lot of social issues which the country is facing. It ranges from the caste system to child labour and gender inequality to religious conflicts. Thus, we are going through a critical time where we all must come together to free our society from undesirable social evils.\"\"\""
      ],
      "metadata": {
        "id": "3xYZo1Vq1uqM"
      },
      "execution_count": null,
      "outputs": []
    },
    {
      "cell_type": "code",
      "source": [
        "stopWords = set(stopwords.words(\"english\"))\n",
        "words = word_tokenize(text)"
      ],
      "metadata": {
        "id": "CS-OmjHY1_pI"
      },
      "execution_count": null,
      "outputs": []
    },
    {
      "cell_type": "code",
      "source": [
        "# Creating a frequency table to keep the score of each word.\n",
        "freqTable = dict()\n",
        "for word in words:\n",
        "    word = word.lower()\n",
        "    if word in stopWords:\n",
        "        continue\n",
        "    if word in freqTable:\n",
        "        freqTable[word] += 1\n",
        "    else:\n",
        "        freqTable[word] = 1"
      ],
      "metadata": {
        "id": "eafc17YU3exX"
      },
      "execution_count": null,
      "outputs": []
    },
    {
      "cell_type": "code",
      "source": [
        "# Creating a dictionary to keep the score of each sentence.\n",
        "sentences = sent_tokenize(text)\n",
        "sentenceValue = dict()"
      ],
      "metadata": {
        "id": "BT6lRpoq3tqf"
      },
      "execution_count": null,
      "outputs": []
    },
    {
      "cell_type": "code",
      "source": [
        "for sentence in sentences:\n",
        "    for word, freq in freqTable.items():\n",
        "        if word in sentence.lower():\n",
        "            if sentence in sentenceValue:\n",
        "                   sentenceValue[sentence] += freq\n",
        "            else:\n",
        "                sentenceValue[sentence] = freq"
      ],
      "metadata": {
        "id": "13jiLjdo3-aV"
      },
      "execution_count": null,
      "outputs": []
    },
    {
      "cell_type": "code",
      "source": [
        "sumValues = 0\n",
        "for sentence in sentenceValue:\n",
        "    sumValues += sentenceValue[sentence]"
      ],
      "metadata": {
        "id": "icpT6QLF4Cuo"
      },
      "execution_count": null,
      "outputs": []
    },
    {
      "cell_type": "code",
      "source": [
        "# Average value of a sentence from the original text.\n",
        "average = int(sumValues / len(sentenceValue))"
      ],
      "metadata": {
        "id": "N38EU5Xy4I_L"
      },
      "execution_count": null,
      "outputs": []
    },
    {
      "cell_type": "code",
      "source": [
        "#Storing the sentences in the summary.\n",
        "summary = ''\n",
        "for sentence in sentences:\n",
        "    if (sentence in sentenceValue) and (sentenceValue[sentence] > (1.2 * average)):\n",
        "        summary += \" \" + sentence\n",
        "print(summary)"
      ],
      "metadata": {
        "colab": {
          "base_uri": "https://localhost:8080/"
        },
        "id": "WEaEPgJ_On-n",
        "outputId": "aaafd5e7-fb3b-4d44-e336-e3a9022f16c6"
      },
      "execution_count": null,
      "outputs": [
        {
          "output_type": "stream",
          "name": "stdout",
          "text": [
            " If you look closely, you will realize that almost all types of social issues have common origins. Social issues have a massive lousy effect on our society and ultimately, it affects all of us. No society is free from social issues, almost every one of them has some social issue or the other. Thus, we are going through a critical time where we all must come together to free our society from undesirable social evils.\n"
          ]
        }
      ]
    }
  ]
}